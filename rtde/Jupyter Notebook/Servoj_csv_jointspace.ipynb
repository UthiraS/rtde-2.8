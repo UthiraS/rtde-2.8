{
 "cells": [
  {
   "cell_type": "code",
   "execution_count": null,
   "metadata": {},
   "outputs": [],
   "source": [
    "import rtde_control\n",
    "import sys\n",
    "import rtde.csv_reader as csv_reader\n",
    "import time\n",
    "import pandas as pd\n",
    "import numpy as np\n",
    "import math\n",
    "rtde_c = rtde_control.RTDEControlInterface(\"127.0.0.1\")# Parameters\n"
   ]
  },
  {
   "cell_type": "code",
   "execution_count": null,
   "metadata": {},
   "outputs": [],
   "source": [
    "#home\n",
    "joint_q = [0,-1.57,1.57,0,1.57,3.14]# Move to initial joint position with a regular moveJ\n",
    "rtde_c.moveJ(joint_q)# Execute 500Hz control loop for 2 seconds, each cycle is 2ms\n"
   ]
  },
  {
   "cell_type": "code",
   "execution_count": null,
   "metadata": {
    "scrolled": false
   },
   "outputs": [],
   "source": [
    "with open('robot_data_circular_variable_diameter.csv') as csvfile:\n",
    "    r = csv_reader.CSVReader(csvfile)\n",
    "    joint_values=[r.target_q_0,r.target_q_1,r.target_q_2,r.target_q_3,r.target_q_4,r.target_q_5]  \n",
    "    joint_velocities =[r.target_qd_0,r.target_qd_1,r.target_qd_2,r.target_qd_3,r.target_qd_4,r.target_qd_5]\n",
    "    joint_accelerations =[r.target_qdd_0,r.target_qdd_1,r.target_qdd_2,r.target_qdd_3,r.target_qdd_4,r.target_qdd_5]\n",
    "    tool_speeds =[r.actual_TCP_speed_5]\n",
    "print(tool_speeds)    "
   ]
  },
  {
   "cell_type": "code",
   "execution_count": null,
   "metadata": {},
   "outputs": [],
   "source": [
    "#Jacobian relation between joint velocities and cartesian velocities\n",
    "#Jacobian matrix of UR5 robot\n",
    "J =np.array([[ 1.09215538e-01, -4.74888413e-01,  0.00000000e+00 , 0.00000000e+00,\n",
    "   0.00000000e+00,  1.00000000e+00],\n",
    " [-3.30349865e-01,  0.00000000e+00, -4.74888413e-01,  1.00000000e+00,\n",
    "   0.00000000e+00,  0.00000000e+00],\n",
    " [ 9.46500000e-02 , 0.00000000e+00, -4.74549974e-01,  1.00000000e+00,\n",
    "   0.00000000e+00,  0.00000000e+00],\n",
    " [ 9.46500000e-02 , 0.00000000e+00, -8.22999739e-02,  1.00000000e+00,\n",
    "   0.00000000e+00,  0.00000000e+00],\n",
    " [-6.55376883e-05,  8.22999739e-02,  1.16418321e-19,  0.00000000e+00,\n",
    "   0.00000000e+00,  1.00000000e+00],\n",
    " [ 0.00000000e+00 , 0.00000000e+00 , 0.00000000e+00,  1.00000000e+00,\n",
    "   0.00000000e+00, 0.00000000e+00]])\n",
    "\n",
    "#xdot = J*qdot\n",
    "i =0\n",
    "tool_vel_array =[]\n",
    "while(i<4500):\n",
    "    joint_vel =[joint_values[0][i],joint_values[1][i],joint_values[2][i],joint_values[3][i],joint_values[4][i],joint_values[5][i]]\n",
    "    tool_velocities = np.matmul(J,joint_vel)\n",
    "    print(tool_velocities)\n",
    "    tool_velocity=np.sqrt(math.pow(tool_velocities[0],2)+math.pow(tool_velocities[1],2)+math.pow(tool_velocities[2],2))\n",
    "    tool_vel_array.append(tool_velocity)\n",
    "    i = i+1\n",
    "#print(tool_vel_array)"
   ]
  },
  {
   "cell_type": "code",
   "execution_count": null,
   "metadata": {
    "scrolled": true
   },
   "outputs": [],
   "source": [
    "velocity = 0.01\n",
    "acceleration = 0.01\n",
    "dt = 0.008\n",
    "lookahead_time = 0.1\n",
    "gain = 300\n",
    "\n",
    "for i in range(4500):\n",
    "    start = time.time()\n",
    "    rtde_c.servoC(rtde_c.getForwardKinematics([joint_values[0][i],joint_values[1][i],joint_values[2][i],joint_values[3][i],joint_values[4][i],joint_values[5][i]]),0.01,0.01,0.01 )    \n",
    "    end = time.time()\n",
    "    duration = end - start\n",
    "    if duration < dt:\n",
    "        time.sleep(dt - duration)\n",
    "rtde_c.servoStop()\n",
    "rtde_c.stopScript()\n",
    "    "
   ]
  },
  {
   "cell_type": "code",
   "execution_count": null,
   "metadata": {},
   "outputs": [],
   "source": []
  },
  {
   "cell_type": "code",
   "execution_count": null,
   "metadata": {},
   "outputs": [],
   "source": []
  },
  {
   "cell_type": "code",
   "execution_count": null,
   "metadata": {},
   "outputs": [],
   "source": []
  },
  {
   "cell_type": "code",
   "execution_count": null,
   "metadata": {},
   "outputs": [],
   "source": []
  },
  {
   "cell_type": "code",
   "execution_count": null,
   "metadata": {},
   "outputs": [],
   "source": []
  },
  {
   "cell_type": "code",
   "execution_count": null,
   "metadata": {},
   "outputs": [],
   "source": []
  },
  {
   "cell_type": "code",
   "execution_count": null,
   "metadata": {},
   "outputs": [],
   "source": []
  },
  {
   "cell_type": "code",
   "execution_count": null,
   "metadata": {},
   "outputs": [],
   "source": []
  },
  {
   "cell_type": "code",
   "execution_count": null,
   "metadata": {},
   "outputs": [],
   "source": []
  }
 ],
 "metadata": {
  "kernelspec": {
   "display_name": "Python 3",
   "language": "python",
   "name": "python3"
  },
  "language_info": {
   "codemirror_mode": {
    "name": "ipython",
    "version": 3
   },
   "file_extension": ".py",
   "mimetype": "text/x-python",
   "name": "python",
   "nbconvert_exporter": "python",
   "pygments_lexer": "ipython3",
   "version": "3.5.2"
  }
 },
 "nbformat": 4,
 "nbformat_minor": 4
}
