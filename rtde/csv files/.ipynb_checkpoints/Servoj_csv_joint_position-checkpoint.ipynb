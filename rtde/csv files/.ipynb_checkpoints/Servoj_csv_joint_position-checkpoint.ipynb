{
 "cells": [
  {
   "cell_type": "code",
   "execution_count": 1,
   "metadata": {
    "scrolled": true
   },
   "outputs": [
    {
     "ename": "ImportError",
     "evalue": "No module named 'rtde'",
     "output_type": "error",
     "traceback": [
      "\u001b[0;31m---------------------------------------------------------------------------\u001b[0m",
      "\u001b[0;31mImportError\u001b[0m                               Traceback (most recent call last)",
      "\u001b[0;32m<ipython-input-1-5f9ccf29e529>\u001b[0m in \u001b[0;36m<module>\u001b[0;34m\u001b[0m\n\u001b[1;32m      1\u001b[0m \u001b[0;32mimport\u001b[0m \u001b[0mrtde_control\u001b[0m\u001b[0;34m\u001b[0m\u001b[0m\n\u001b[1;32m      2\u001b[0m \u001b[0;32mimport\u001b[0m \u001b[0msys\u001b[0m\u001b[0;34m\u001b[0m\u001b[0m\n\u001b[0;32m----> 3\u001b[0;31m \u001b[0;32mimport\u001b[0m \u001b[0mrtde\u001b[0m\u001b[0;34m.\u001b[0m\u001b[0mcsv_reader\u001b[0m \u001b[0;32mas\u001b[0m \u001b[0mcsv_reader\u001b[0m\u001b[0;34m\u001b[0m\u001b[0m\n\u001b[0m\u001b[1;32m      4\u001b[0m \u001b[0;32mimport\u001b[0m \u001b[0mtime\u001b[0m\u001b[0;34m\u001b[0m\u001b[0m\n\u001b[1;32m      5\u001b[0m \u001b[0;32mimport\u001b[0m \u001b[0mpandas\u001b[0m \u001b[0;32mas\u001b[0m \u001b[0mpd\u001b[0m\u001b[0;34m\u001b[0m\u001b[0m\n",
      "\u001b[0;31mImportError\u001b[0m: No module named 'rtde'"
     ]
    }
   ],
   "source": [
    "import rtde_control\n",
    "import sys\n",
    "import rtde.csv_reader as csv_reader\n",
    "import time\n",
    "import pandas as pd\n",
    "import numpy as np\n",
    "rtde_c = rtde_control.RTDEControlInterface(\"127.0.0.1\")# Parameters\n"
   ]
  },
  {
   "cell_type": "code",
   "execution_count": null,
   "metadata": {},
   "outputs": [],
   "source": [
    "#home\n",
    "joint_q = [0,-1.57,1.57,0,1.57,3.14]# Move to initial joint position with a regular moveJ\n",
    "rtde_c.moveJ(joint_q)# Execute 500Hz control loop for 2 seconds, each cycle is 2ms\n"
   ]
  },
  {
   "cell_type": "code",
   "execution_count": null,
   "metadata": {},
   "outputs": [],
   "source": [
    "with open('robot_data.csv') as csvfile:\n",
    "    r = csv_reader.CSVReader(csvfile)\n",
    "    joint_values=[r.target_q_0,r.target_q_1,r.target_q_2,r.target_q_3,r.target_q_4,r.target_q_5]  \n",
    "    \n",
    "    print(joint_values)"
   ]
  },
  {
   "cell_type": "code",
   "execution_count": null,
   "metadata": {},
   "outputs": [],
   "source": [
    "rtde_c.moveJ(joint_values[0][0],joint_values[1][0],joint_values[2][0],joint_values[3][0],joint_values[4][0],joint_values[5][0])"
   ]
  },
  {
   "cell_type": "code",
   "execution_count": null,
   "metadata": {
    "scrolled": false
   },
   "outputs": [],
   "source": [
    "velocity = 0.01\n",
    "acceleration = 0.01\n",
    "dt = 0.008\n",
    "lookahead_time = 0.1\n",
    "gain = 300\n",
    "i =0\n",
    "while(1):\n",
    "    start = time.time()\n",
    "    rtde_c.servoJ([joint_values[0][i],joint_values[1][i],joint_values[2][i],joint_values[3][i],joint_values[4][i],joint_values[5][i]],velocity, acceleration, dt, lookahead_time, gain)    \n",
    "    end = time.time()\n",
    "    duration = end - start\n",
    "    if duration < dt:\n",
    "        time.sleep(dt - duration)\n",
    "        i =i +1\n",
    "rtde_c.servoStop()\n",
    "rtde_c.stopScript()\n",
    "    "
   ]
  },
  {
   "cell_type": "code",
   "execution_count": null,
   "metadata": {},
   "outputs": [],
   "source": []
  },
  {
   "cell_type": "code",
   "execution_count": null,
   "metadata": {},
   "outputs": [],
   "source": []
  },
  {
   "cell_type": "code",
   "execution_count": null,
   "metadata": {},
   "outputs": [],
   "source": []
  },
  {
   "cell_type": "code",
   "execution_count": null,
   "metadata": {},
   "outputs": [],
   "source": []
  }
 ],
 "metadata": {
  "kernelspec": {
   "display_name": "Python 3",
   "language": "python",
   "name": "python3"
  },
  "language_info": {
   "codemirror_mode": {
    "name": "ipython",
    "version": 3
   },
   "file_extension": ".py",
   "mimetype": "text/x-python",
   "name": "python",
   "nbconvert_exporter": "python",
   "pygments_lexer": "ipython3",
   "version": "3.5.2"
  }
 },
 "nbformat": 4,
 "nbformat_minor": 4
}
